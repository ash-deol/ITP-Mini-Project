{
 "cells": [
  {
   "cell_type": "code",
   "execution_count": 362,
   "metadata": {},
   "outputs": [
    {
     "data": {
      "text/plain": [
       "{101: [1, 3, '14-03-2020', '25-03-2020', 'Area1', 'Area6', 'Delivered', '198'],\n",
       " 102: [4, 1, '18-06-2020', '09-07-2020', 'Area2', 'Area4', 'Delivered', '275'],\n",
       " 103: [2, 3, '01-12-2020', 'Null', 'Area5', 'Area1', 'In-Transit', '200'],\n",
       " 104: [1, 5, '23-06-2020', '25-06-2020', 'Area1', 'Area4', 'Delivered', '314'],\n",
       " 105: [3, 4, '29-08-2020', '10-09-2020', 'Area5', 'Area3', 'Delivered', '275'],\n",
       " 106: [5, 2, '28-06-2020', 'Null', 'Area3', 'Area1', 'In-Transit', '270']}"
      ]
     },
     "execution_count": 362,
     "metadata": {},
     "output_type": "execute_result"
    }
   ],
   "source": [
    "# Q1. Create a Dictionary of lists to store the information of shipments given in the table\n",
    "\n",
    "product_info={\n",
    "    101: [1,3,'14-03-2020','25-03-2020','Area1','Area6','Delivered','198'],\n",
    "    102: [4,1,'18-06-2020','09-07-2020','Area2','Area4','Delivered','275'],\n",
    "    103: [2,3,'01-12-2020','Null','Area5','Area1','In-Transit','200'],\n",
    "    104: [1,5,'23-06-2020','25-06-2020','Area1','Area4','Delivered','314'],\n",
    "    105: [3,4,'29-08-2020','10-09-2020','Area5','Area3','Delivered','275'],\n",
    "    106: [5,2,'28-06-2020','Null','Area3','Area1','In-Transit','270']\n",
    "}\n",
    "\n",
    "product_info\n"
   ]
  },
  {
   "cell_type": "code",
   "execution_count": 364,
   "metadata": {},
   "outputs": [
    {
     "data": {
      "text/plain": [
       "{1: 'Philip', 2: 'Omega III', 3: 'Ramya', 4: 'Romesh', 5: 'John'}"
      ]
     },
     "execution_count": 364,
     "metadata": {},
     "output_type": "execute_result"
    }
   ],
   "source": [
    "# Q2. Create a Dictionary of to store the information of clients given in the table.\n",
    "\n",
    "client_info={\n",
    "    1: 'Philip',\n",
    "    2: 'Omega III',\n",
    "    3: 'Ramya',\n",
    "    4: 'Romesh',\n",
    "    5: 'John'\n",
    "}\n",
    "\n",
    "client_info"
   ]
  },
  {
   "cell_type": "code",
   "execution_count": 365,
   "metadata": {},
   "outputs": [
    {
     "name": "stdout",
     "output_type": "stream",
     "text": [
      "{101: ['Philip', 'Ramya', '14-03-2020', '25-03-2020', 'Area1', 'Area6', 'Delivered', '198'], 102: ['Romesh', 'Philip', '18-06-2020', '09-07-2020', 'Area2', 'Area4', 'Delivered', '275'], 103: ['Omega III', 'Ramya', '01-12-2020', 'Null', 'Area5', 'Area1', 'In-Transit', '200'], 104: ['Philip', 'John', '23-06-2020', '25-06-2020', 'Area1', 'Area4', 'Delivered', '314'], 105: ['Ramya', 'Romesh', '29-08-2020', '10-09-2020', 'Area5', 'Area3', 'Delivered', '275'], 106: ['John', 'Omega III', '28-06-2020', 'Null', 'Area3', 'Area1', 'In-Transit', '270']}\n"
     ]
    }
   ],
   "source": [
    "# Q3. Write a code to replace client’s id with their respective name in shipment dictionary using a \n",
    "# loop and dictionary comprehension\n",
    "\n",
    "# Using a loop-\n",
    "for i in product_info:\n",
    "    x=product_info[i][0]\n",
    "    y=product_info[i][1]\n",
    "    \n",
    "    product_info[i][0]=client_info[x]\n",
    "    product_info[i][1]=client_info[y]\n",
    "print(product_info)\n",
    "\n",
    "\n",
    "\n"
   ]
  },
  {
   "cell_type": "code",
   "execution_count": 359,
   "metadata": {},
   "outputs": [
    {
     "data": {
      "text/plain": [
       "{101: ['Philip',\n",
       "  'Ramya',\n",
       "  '14-03-2020',\n",
       "  '25-03-2020',\n",
       "  'Area1',\n",
       "  'Area6',\n",
       "  'Delivered',\n",
       "  '198'],\n",
       " 102: ['Romesh',\n",
       "  'Philip',\n",
       "  '18-06-2020',\n",
       "  '09-07-2020',\n",
       "  'Area2',\n",
       "  'Area4',\n",
       "  'Delivered',\n",
       "  '275'],\n",
       " 103: ['Omega III',\n",
       "  'Ramya',\n",
       "  '01-12-2020',\n",
       "  'Null',\n",
       "  'Area5',\n",
       "  'Area1',\n",
       "  'In-Transit',\n",
       "  '200'],\n",
       " 104: ['Philip',\n",
       "  'John',\n",
       "  '23-06-2020',\n",
       "  '25-06-2020',\n",
       "  'Area1',\n",
       "  'Area4',\n",
       "  'Delivered',\n",
       "  '314'],\n",
       " 105: ['Ramya',\n",
       "  'Romesh',\n",
       "  '29-08-2020',\n",
       "  '10-09-2020',\n",
       "  'Area5',\n",
       "  'Area3',\n",
       "  'Delivered',\n",
       "  '275'],\n",
       " 106: ['John',\n",
       "  'Omega III',\n",
       "  '28-06-2020',\n",
       "  'Null',\n",
       "  'Area3',\n",
       "  'Area1',\n",
       "  'In-Transit',\n",
       "  '270']}"
      ]
     },
     "execution_count": 359,
     "metadata": {},
     "output_type": "execute_result"
    }
   ],
   "source": [
    "# Using Dictionary Comprehension\n",
    "\n",
    "{i: [client_info[product_info[i][0]], client_info[product_info[i][1]],product_info[i][2],product_info[i][3],product_info[i][4],product_info[i][5],product_info[i][6], product_info[i][7]] for i in product_info}"
   ]
  },
  {
   "cell_type": "code",
   "execution_count": 366,
   "metadata": {},
   "outputs": [
    {
     "name": "stdout",
     "output_type": "stream",
     "text": [
      "Shipments sent by Phillip ['Philip', 'Ramya', '14-03-2020', '25-03-2020', 'Area1', 'Area6', 'Delivered', '198'] \n",
      " Shipment ID:  101\n",
      "Shipments sent by Phillip ['Philip', 'John', '23-06-2020', '25-06-2020', 'Area1', 'Area4', 'Delivered', '314'] \n",
      " Shipment ID:  104\n"
     ]
    }
   ],
   "source": [
    "# Q4. Print all shipment details that are sent by Phillip\n",
    "\n",
    "for i in product_info:\n",
    "    if product_info[i][0]==client_info[1]:\n",
    "        print(\"Shipments sent by Phillip\",product_info[i],\"\\n\",\"Shipment ID: \",i)\n"
   ]
  },
  {
   "cell_type": "code",
   "execution_count": 367,
   "metadata": {},
   "outputs": [
    {
     "name": "stdout",
     "output_type": "stream",
     "text": [
      "Shipments received by Ramya ['Philip', 'Ramya', '14-03-2020', '25-03-2020', 'Area1', 'Area6', 'Delivered', '198'] \n",
      " Shipment ID:  101\n",
      "Shipments received by Ramya ['Omega III', 'Ramya', '01-12-2020', 'Null', 'Area5', 'Area1', 'In-Transit', '200'] \n",
      " Shipment ID:  103\n"
     ]
    }
   ],
   "source": [
    "# Q5. Print all shipment details that are received by Ramya\n",
    "\n",
    "for i in product_info:\n",
    "    if product_info[i][1]==client_info[3]:\n",
    "            print(\"Shipments received by Ramya\",product_info[i],\"\\n\",\"Shipment ID: \",i)"
   ]
  },
  {
   "cell_type": "code",
   "execution_count": 368,
   "metadata": {},
   "outputs": [
    {
     "name": "stdout",
     "output_type": "stream",
     "text": [
      "Shipments In-Transit:  ['Omega III', 'Ramya', '01-12-2020', 'Null', 'Area5', 'Area1', 'In-Transit', '200'] \n",
      " Shipment ID:  103\n",
      "Shipments In-Transit:  ['John', 'Omega III', '28-06-2020', 'Null', 'Area3', 'Area1', 'In-Transit', '270'] \n",
      " Shipment ID:  106\n"
     ]
    }
   ],
   "source": [
    "# Q6. Print all shipments which are in 'In-Transit' status\n",
    "\n",
    "for i in product_info:\n",
    "    if product_info[i][6]=='In-Transit':\n",
    "        print(\"Shipments In-Transit: \",product_info[i],\"\\n\",\"Shipment ID: \",i)"
   ]
  },
  {
   "cell_type": "code",
   "execution_count": 369,
   "metadata": {},
   "outputs": [
    {
     "name": "stdout",
     "output_type": "stream",
     "text": [
      "\n",
      "Shipments which are delivered within 7 days:  \n",
      " Shipment ID:  104\n",
      "\n"
     ]
    }
   ],
   "source": [
    "# Q7. Print all shipments which are delivered within 7 days of courier Start date\n",
    "\n",
    "for i in product_info:\n",
    "    a=product_info[i][2].split('-')\n",
    "    b=product_info[i][3].split('-')\n",
    "    if b[0]==\"Null\":\n",
    "        print()\n",
    "    else:\n",
    "        from datetime import date\n",
    "        c = date(int(a[2]), int(a[1]), int(a[0]))\n",
    "        d = date(int(b[2]), int(b[1]), int(b[0]))\n",
    "        date_d = d - c\n",
    "        d0=date_d.days\n",
    "        if d0<7:\n",
    "            print(\"Shipments which are delivered within 7 days: \",\"\\n\",\"Shipment ID: \", i)"
   ]
  },
  {
   "cell_type": "code",
   "execution_count": 370,
   "metadata": {},
   "outputs": [
    {
     "name": "stdout",
     "output_type": "stream",
     "text": [
      "Shipment is delayed by:  6 Days Shipment ID:  102\n",
      "Shipments are not yet been delivered!!! Shipment ID:  103\n",
      "Shipments are not yet been delivered!!! Shipment ID:  106\n"
     ]
    }
   ],
   "source": [
    "# Q8. Print all shipments which are delivered after 15 days of courier start date or not yet been delivered.\n",
    "\n",
    "for i in product_info:\n",
    "    a=product_info[i][2].split('-')\n",
    "    b=product_info[i][3].split('-')\n",
    "    if b[0]==\"Null\":\n",
    "        print(\"Shipments are not yet been delivered!!!\",\"Shipment ID: \", i)\n",
    "    else:\n",
    "        from datetime import date\n",
    "        c = date(int(a[2]), int(a[1]), int(a[0]))\n",
    "        d = date(int(b[2]), int(b[1]), int(b[0]))\n",
    "        date_d = d - c\n",
    "        d0=date_d.days\n",
    "        if d0>15:\n",
    "            print(\"Shipment is delayed by: \",(d0-15),\"Days\",\"Shipment ID: \", i)"
   ]
  },
  {
   "cell_type": "code",
   "execution_count": 371,
   "metadata": {},
   "outputs": [
    {
     "name": "stdout",
     "output_type": "stream",
     "text": [
      "{101: ['Philip', 'Ramya', '14-03-2020', '25-03-2020', 'Area1', 'Area6', 'Delivered', '198'], 102: ['Romesh', 'Philip', '18-06-2020', '09-07-2020', 'Area2', 'Area4', 'Delivered', '275'], 103: ['Omega III', 'Ramya', '01-12-2020', 'Null', 'Area5', 'Area1', 'In-Transit', '200'], 104: ['Philip', 'John', '23-06-2020', '25-06-2020', 'Area1', 'Area4', 'Delivered', '314'], 105: ['Ramya', 'Romesh', '29-08-2020', '10-09-2020', 'Area5', 'Area3', 'Delivered', '275'], 106: ['John', 'Omega III', '28-06-2020', 'Null', 'Area3', 'Area1', 'In-Transit', '270']} \n",
      "\n",
      "Enter Shipment ID: 105\n",
      "Possible routes are: \n",
      " 3-4 & 3-2-4\n"
     ]
    }
   ],
   "source": [
    "# Q 9. Write a function find_all_routes to display all possible routes from senders location to receivers location \n",
    "# given in the dictionary for each shipment.\n",
    "\n",
    "# Method-1\n",
    "\n",
    "import numpy as np\n",
    "\n",
    "print(product_info,'\\n')\n",
    "\n",
    "list1=[[0,1,0,0,0,1],\n",
    "       [1,0,1,1,0,0],\n",
    "       [0,1,0,1,0,0],\n",
    "       [0,1,1,0,1,0],\n",
    "       [0,0,0,1,0,0],\n",
    "       [1,0,0,0,0,0]]\n",
    "\n",
    "np.array(list1)\n",
    "\n",
    "def find_all_routes(a):\n",
    "    if a==101:\n",
    "        print(\"Possible routes are:\",\"\\n\", \"1-2-3 & 1-2-4-3\")\n",
    "    elif a==102:\n",
    "        print(\"Possible routes are:\",\"\\n\", \"4-2-1 & 4-3-2-1\")\n",
    "    elif a==103:\n",
    "        print(\"Possible routes are:\",\"\\n\", \"2-3 & 2-4-3\")\n",
    "    elif a==104:\n",
    "        print(\"Possible routes are:\",\"\\n\", \"1-2-4-5 & 1-2-3-4-5\")\n",
    "    elif a==105:\n",
    "        print(\"Possible routes are:\",\"\\n\", \"3-4 & 3-2-4\")\n",
    "    elif a==106:\n",
    "        print(\"Possible routes are:\",\"\\n\", \"5-4-2 & 5-4-3-2\")\n",
    "find_all_routes(int(input(\"Enter Shipment ID: \")))"
   ]
  },
  {
   "cell_type": "code",
   "execution_count": 372,
   "metadata": {},
   "outputs": [
    {
     "name": "stdout",
     "output_type": "stream",
     "text": [
      "['Romesh', 'Philip', '18-06-2020', '09-07-2020', 'Area2', 'Area4', 'Delivered', '275']\n",
      "['Omega III', 'Ramya', '01-12-2020', 'Null', 'Area5', 'Area1', 'In-Transit', '200']\n",
      "['John', 'Omega III', '28-06-2020', 'Null', 'Area3', 'Area1', 'In-Transit', '270']\n",
      "\n",
      "Enter Sender location: 2\n",
      "Enter Receivers location: 3\n",
      "[3, 2, 4]\n",
      "[3, 4]\n"
     ]
    }
   ],
   "source": [
    "# Method-2\n",
    "\n",
    "import datetime as dt\n",
    "for i in product_info:\n",
    "    if (product_info[i][3] == 'Null'):\n",
    "        print(product_info[i])\n",
    "    else:\n",
    "        start = dt.datetime.strptime(product_info[i][2], \"%d-%m-%Y\")\n",
    "        end = dt.datetime.strptime(product_info[i][3], \"%d-%m-%Y\")\n",
    "        if (end-start) > dt.timedelta(days = 15):\n",
    "            print(product_info[i])\n",
    "print()\n",
    "\n",
    "def find_all_routes(matrix,u,d,visited,path):     \n",
    "        visited[u]= True\n",
    "        path.append(u+1) \n",
    "        if u == d: \n",
    "            print(path) \n",
    "        else: \n",
    "             \n",
    "            for i in range(6):\n",
    "                if matrix[u][i] == 1 and (visited[i]== False): \n",
    "                    find_all_routes(matrix,i, d, visited, path)          \n",
    "        \n",
    "        path.pop() \n",
    "        visited[u]= False\n",
    "        \n",
    "matrix = [[0,1,0,0,0,1],\n",
    "          [1,0,1,1,0,0],\n",
    "          [0,1,0,1,0,0],\n",
    "          [0,1,1,0,1,0],\n",
    "          [0,0,0,1,0,0],\n",
    "          [1,0,0,0,0,0]]\n",
    "visited=[False for i in range(6)]\n",
    "path = []\n",
    "\n",
    "find_all_routes(matrix,int(input(\"Enter Sender location: \")),int(input(\"Enter Receivers location: \")),visited,path)\n"
   ]
  },
  {
   "cell_type": "code",
   "execution_count": 348,
   "metadata": {},
   "outputs": [],
   "source": [
    " "
   ]
  },
  {
   "cell_type": "code",
   "execution_count": null,
   "metadata": {},
   "outputs": [],
   "source": []
  },
  {
   "cell_type": "code",
   "execution_count": null,
   "metadata": {},
   "outputs": [],
   "source": []
  },
  {
   "cell_type": "code",
   "execution_count": 333,
   "metadata": {},
   "outputs": [
    {
     "name": "stdout",
     "output_type": "stream",
     "text": [
      "{101: [1, 3, '14-03-2020', '25-03-2020', 'Area1', 'Area6', 'Delivered', '198'], 102: [4, 1, '18-06-2020', '09-07-2020', 'Area2', 'Area4', 'Delivered', '275'], 103: [2, 3, '01-12-2020', 'Null', 'Area5', 'Area1', 'In-Transit', '200'], 104: [1, 5, '23-06-2020', '25-06-2020', 'Area1', 'Area4', 'Delivered', '314'], 105: [3, 4, '29-08-2020', '10-09-2020', 'Area5', 'Area3', 'Delivered', '275'], 106: [5, 2, '28-06-2020', 'Null', 'Area3', 'Area1', 'In-Transit', '270']} \n",
      "\n",
      "Enter Shipment ID: 101\n"
     ]
    },
    {
     "ename": "AttributeError",
     "evalue": "module 'numpy' has no attribute 'list1'",
     "output_type": "error",
     "traceback": [
      "\u001b[1;31m---------------------------------------------------------------------------\u001b[0m",
      "\u001b[1;31mAttributeError\u001b[0m                            Traceback (most recent call last)",
      "\u001b[1;32m<ipython-input-333-1d6c83296811>\u001b[0m in \u001b[0;36m<module>\u001b[1;34m\u001b[0m\n\u001b[0;32m     17\u001b[0m     \u001b[1;32mif\u001b[0m \u001b[0ma\u001b[0m\u001b[1;33m==\u001b[0m\u001b[1;36m101\u001b[0m\u001b[1;33m:\u001b[0m\u001b[1;33m\u001b[0m\u001b[1;33m\u001b[0m\u001b[0m\n\u001b[0;32m     18\u001b[0m         \u001b[0mprint\u001b[0m\u001b[1;33m(\u001b[0m\u001b[0mnp\u001b[0m\u001b[1;33m.\u001b[0m\u001b[0mlist1\u001b[0m\u001b[1;33m[\u001b[0m\u001b[1;36m1\u001b[0m\u001b[1;33m,\u001b[0m\u001b[1;36m5\u001b[0m\u001b[1;33m]\u001b[0m\u001b[1;33m)\u001b[0m\u001b[1;33m\u001b[0m\u001b[1;33m\u001b[0m\u001b[0m\n\u001b[1;32m---> 19\u001b[1;33m \u001b[0mfind_all_routes\u001b[0m\u001b[1;33m(\u001b[0m\u001b[0mint\u001b[0m\u001b[1;33m(\u001b[0m\u001b[0minput\u001b[0m\u001b[1;33m(\u001b[0m\u001b[1;34m\"Enter Shipment ID: \"\u001b[0m\u001b[1;33m)\u001b[0m\u001b[1;33m)\u001b[0m\u001b[1;33m)\u001b[0m\u001b[1;33m\u001b[0m\u001b[1;33m\u001b[0m\u001b[0m\n\u001b[0m",
      "\u001b[1;32m<ipython-input-333-1d6c83296811>\u001b[0m in \u001b[0;36mfind_all_routes\u001b[1;34m(a)\u001b[0m\n\u001b[0;32m     16\u001b[0m \u001b[1;32mdef\u001b[0m \u001b[0mfind_all_routes\u001b[0m\u001b[1;33m(\u001b[0m\u001b[0ma\u001b[0m\u001b[1;33m)\u001b[0m\u001b[1;33m:\u001b[0m\u001b[1;33m\u001b[0m\u001b[1;33m\u001b[0m\u001b[0m\n\u001b[0;32m     17\u001b[0m     \u001b[1;32mif\u001b[0m \u001b[0ma\u001b[0m\u001b[1;33m==\u001b[0m\u001b[1;36m101\u001b[0m\u001b[1;33m:\u001b[0m\u001b[1;33m\u001b[0m\u001b[1;33m\u001b[0m\u001b[0m\n\u001b[1;32m---> 18\u001b[1;33m         \u001b[0mprint\u001b[0m\u001b[1;33m(\u001b[0m\u001b[0mnp\u001b[0m\u001b[1;33m.\u001b[0m\u001b[0mlist1\u001b[0m\u001b[1;33m[\u001b[0m\u001b[1;36m1\u001b[0m\u001b[1;33m,\u001b[0m\u001b[1;36m5\u001b[0m\u001b[1;33m]\u001b[0m\u001b[1;33m)\u001b[0m\u001b[1;33m\u001b[0m\u001b[1;33m\u001b[0m\u001b[0m\n\u001b[0m\u001b[0;32m     19\u001b[0m \u001b[0mfind_all_routes\u001b[0m\u001b[1;33m(\u001b[0m\u001b[0mint\u001b[0m\u001b[1;33m(\u001b[0m\u001b[0minput\u001b[0m\u001b[1;33m(\u001b[0m\u001b[1;34m\"Enter Shipment ID: \"\u001b[0m\u001b[1;33m)\u001b[0m\u001b[1;33m)\u001b[0m\u001b[1;33m)\u001b[0m\u001b[1;33m\u001b[0m\u001b[1;33m\u001b[0m\u001b[0m\n",
      "\u001b[1;32mC:\\Anaconda3\\lib\\site-packages\\numpy\\__init__.py\u001b[0m in \u001b[0;36m__getattr__\u001b[1;34m(attr)\u001b[0m\n\u001b[0;32m    301\u001b[0m                 \u001b[1;32mreturn\u001b[0m \u001b[0mTester\u001b[0m\u001b[1;33m\u001b[0m\u001b[1;33m\u001b[0m\u001b[0m\n\u001b[0;32m    302\u001b[0m \u001b[1;33m\u001b[0m\u001b[0m\n\u001b[1;32m--> 303\u001b[1;33m             raise AttributeError(\"module {!r} has no attribute \"\n\u001b[0m\u001b[0;32m    304\u001b[0m                                  \"{!r}\".format(__name__, attr))\n\u001b[0;32m    305\u001b[0m \u001b[1;33m\u001b[0m\u001b[0m\n",
      "\u001b[1;31mAttributeError\u001b[0m: module 'numpy' has no attribute 'list1'"
     ]
    }
   ],
   "source": [
    "# Rough Work\n",
    "\n",
    "\n",
    "\n",
    "import numpy as np\n",
    "\n",
    "print(product_info,'\\n')\n",
    "\n",
    "list1=[[0,1,0,0,0,1],\n",
    "       [1,0,1,1,0,0],\n",
    "       [0,1,0,1,0,0],\n",
    "       [0,1,1,0,1,0],\n",
    "       [0,0,0,1,0,0],\n",
    "       [1,0,0,0,0,0]]\n",
    "\n",
    "np.array(list1)\n",
    "\n",
    "def find_all_routes(a):\n",
    "    if a==101:\n",
    "        print(np.list1[1,5])\n",
    "find_all_routes(int(input(\"Enter Shipment ID: \")))"
   ]
  },
  {
   "cell_type": "code",
   "execution_count": null,
   "metadata": {},
   "outputs": [],
   "source": [
    "# Rough Work\n",
    "\n",
    "\n",
    "\n",
    "for i in product_info:\n",
    "    x=product_info[i][2]\n",
    "    print(x)"
   ]
  },
  {
   "cell_type": "code",
   "execution_count": null,
   "metadata": {},
   "outputs": [],
   "source": [
    "# Rough Work\n",
    "\n",
    "\n",
    "a='14-03-2020'\n",
    "a.split('-')"
   ]
  },
  {
   "cell_type": "code",
   "execution_count": null,
   "metadata": {},
   "outputs": [],
   "source": [
    "# Rough Work\n",
    "\n",
    "\n",
    "a=(int(9)-int(18))\n",
    "abs(a)"
   ]
  },
  {
   "cell_type": "code",
   "execution_count": null,
   "metadata": {},
   "outputs": [],
   "source": [
    "# Rough Work\n",
    "attributes1=list(product_info.values())\n",
    "j=0\n",
    "k=0\n",
    "for i in client_info:\n",
    "    while j in range(0,6):\n",
    "        while k in range(0,2):\n",
    "            if attributes1[j][k]==i:\n",
    "                attributes1[j][k]=client_info[i]\n",
    "\n",
    "print(attributes1)"
   ]
  },
  {
   "cell_type": "code",
   "execution_count": null,
   "metadata": {},
   "outputs": [],
   "source": [
    "# Rough Work\n",
    "\n",
    "\n",
    "a=product_info[103][2].split('-')\n",
    "print(a)\n",
    "b=product_info[103][3].split('-')\n",
    "print(b[0])\n",
    "\n",
    "v=abs(int(a[0])-int(b[0]))\n",
    "print(v)\n",
    "\n",
    "a=product_info[i][2].split('-')\n",
    "b=product_info[i][3].split('-')"
   ]
  },
  {
   "cell_type": "code",
   "execution_count": null,
   "metadata": {},
   "outputs": [],
   "source": [
    "# Rough Work\n",
    "\n",
    "from datetime import date\n",
    "d0 = date(2008, 8, 18)\n",
    "d1 = date(2008, 9, 1)\n",
    "delta = d1 - d0\n",
    "print(type(delta.days))"
   ]
  },
  {
   "cell_type": "code",
   "execution_count": null,
   "metadata": {},
   "outputs": [],
   "source": [
    "# Rough Work\n",
    "# Q8. Print all shipments which are delivered after 15 days of courier start date or not yet been delivered.\n",
    "\n",
    "for i in product_info:\n",
    "    a=product_info[i][2].split('-')\n",
    "    b=product_info[i][3].split('-')\n",
    "    if b[0]==\"Null\":\n",
    "        print(\"Shipments are not yet been delivered!!! \", )\n",
    "    elif abs(int(a[1])-int(b[1]))>=0:\n",
    "        if abs(int(a[0])-int(b[0]))>=15:\n",
    "            print(\"Shipments which are delivered within 7 days: \",(\"\\n\"),product_info[i])"
   ]
  },
  {
   "cell_type": "code",
   "execution_count": null,
   "metadata": {},
   "outputs": [],
   "source": [
    "# Rough Work\n",
    "# Q7. Print all shipments which are delivered within 7 days of courier Start date\n",
    "\n",
    "for i in product_info:\n",
    "    a=product_info[i][2].split('-')\n",
    "    b=product_info[i][3].split('-')\n",
    "    if b[0]==\"Null\":\n",
    "        print()\n",
    "    elif abs(int(a[1])-int(b[1]))>=0:\n",
    "        if abs(int(a[0])-int(b[0]))<7:\n",
    "            print(\"Shipments which are delivered within 7 days: \",(\"\\n\"),product_info[i])"
   ]
  },
  {
   "cell_type": "code",
   "execution_count": null,
   "metadata": {},
   "outputs": [],
   "source": []
  }
 ],
 "metadata": {
  "kernelspec": {
   "display_name": "Python 3",
   "language": "python",
   "name": "python3"
  },
  "language_info": {
   "codemirror_mode": {
    "name": "ipython",
    "version": 3
   },
   "file_extension": ".py",
   "mimetype": "text/x-python",
   "name": "python",
   "nbconvert_exporter": "python",
   "pygments_lexer": "ipython3",
   "version": "3.8.8"
  }
 },
 "nbformat": 4,
 "nbformat_minor": 4
}
